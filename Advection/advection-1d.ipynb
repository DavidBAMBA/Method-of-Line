{
 "cells": [
  {
   "cell_type": "markdown",
   "metadata": {},
   "source": [
    "#  1D Advection Equation\n",
    "\n",
    "The one-dimensional advection equation describes the transport of a scalar quantity $u(x, t)$ at a constant velocity $ \\alpha $:\n",
    "\n",
    "\\begin{equation}\n",
    "\\frac{\\partial u}{\\partial t} + \\alpha \\frac{\\partial u}{\\partial x} = 0\n",
    "\\end{equation}\n",
    "\n",
    "\n",
    "It represents how a wave or distribution moves without distortion along the $x$ -axis at speed $ \\alpha $. \n"
   ]
  },
  {
   "cell_type": "code",
   "execution_count": 1,
   "metadata": {},
   "outputs": [],
   "source": [
    "import numpy as np\n",
    "import matplotlib.pyplot as plt\n",
    "from matplotlib.animation import FuncAnimation\n",
    "from matplotlib.animation import FFMpegWriter\n",
    "from IPython.display import Video"
   ]
  },
  {
   "cell_type": "code",
   "execution_count": 2,
   "metadata": {},
   "outputs": [],
   "source": [
    "# Parameters\n",
    "L = 1.0          # Domain\n",
    "alpha = 1.0      # advection velocity\n",
    "N = 500          # number of space points\n",
    "dx = L / N       # spatial step\n",
    "x = np.linspace(-L, L, N, endpoint=False)\n",
    "\n",
    "# CFL\n",
    "CFL = 0.5                           \n",
    "dt = CFL * dx / abs(alpha)          # Time step\n",
    "tf = 3.0                            # Final time\n",
    "n_steps = int(tf / dt) + 1          # Total number of time steps\n",
    "\n",
    "# Initial condition: Gaussian pulse \n",
    "u0 = np.exp(-100 * (x)**2)"
   ]
  },
  {
   "cell_type": "code",
   "execution_count": 3,
   "metadata": {},
   "outputs": [],
   "source": [
    "# Runge-Kutta 4 Algorithm\n",
    "def RK4(ODE, t0, q0, tf, n):\n",
    "    dt = (tf - t0)/(n-1)\n",
    "    q = np.zeros([n, len(q0)+1])\n",
    "    q[0, 0] = t0\n",
    "    q[0, 1:] = q0\n",
    "    for i in range(1, n):\n",
    "        q[i, 0] = q[i-1, 0] + dt\n",
    "        k1 = dt * ODE(q[i-1, 0], q[i-1, 1:])\n",
    "        k2 = dt * ODE(q[i-1, 0] + dt/2, q[i-1, 1:] + k1/2)\n",
    "        k3 = dt * ODE(q[i-1, 0] + dt/2, q[i-1, 1:] + k2/2)\n",
    "        k4 = dt * ODE(q[i-1, 0] + dt, q[i-1, 1:] + k3)\n",
    "        q[i, 1:] = q[i-1, 1:] + (k1 + 2*k2 + 2*k3 + k4)/6\n",
    "    return q"
   ]
  },
  {
   "cell_type": "code",
   "execution_count": 4,
   "metadata": {},
   "outputs": [],
   "source": [
    "def du1dt(t, u):\n",
    "    # Centered difference\n",
    "    # du_i/dt = -α * (u_{i+1} - u_{i-1}) / (2Δx)\n",
    "    return -alpha * (np.roll(u, -1) - np.roll(u, 1)) / (2 * dx)\n"
   ]
  },
  {
   "cell_type": "code",
   "execution_count": 5,
   "metadata": {},
   "outputs": [],
   "source": [
    "def du2dt(t, u):\n",
    "    # Forward difference\n",
    "    # du_i/dt = -α * (u_{i+1} - u_i) / Δx\n",
    "    return -alpha * (np.roll(u, -1) - u) / dx\n"
   ]
  },
  {
   "cell_type": "code",
   "execution_count": 6,
   "metadata": {},
   "outputs": [],
   "source": [
    "def du3dt(t, u):\n",
    "    # Backward difference\n",
    "    # du_i/dt = -α * (u_i - u_{i-1}) / Δx\n",
    "    return -alpha * (u - np.roll(u, 1)) / dx\n"
   ]
  },
  {
   "cell_type": "code",
   "execution_count": 7,
   "metadata": {},
   "outputs": [],
   "source": [
    "def save_advection_animation_1D(x, u_array, t_array, filename=\"advection_1D.mp4\", ylim=(-0.1, 1.1), fps=25):\n",
    "\n",
    "    fig, ax = plt.subplots()\n",
    "    line, = ax.plot(x, u_array[0])\n",
    "    ax.set_ylim(*ylim)\n",
    "    ax.set_xlabel('x')\n",
    "    ax.set_ylabel('u(x,t)')\n",
    "    ax.set_title('1D Advection')\n",
    "\n",
    "    def update(frame):\n",
    "        line.set_ydata(u_array[frame])\n",
    "        ax.set_title(f't = {t_array[frame]:.2f}')\n",
    "        return line,\n",
    "\n",
    "    ani = FuncAnimation(fig, update, frames=len(t_array), interval=1000/fps)\n",
    "    \n",
    "    writer = FFMpegWriter(fps=fps, bitrate=1800)\n",
    "    ani.save(filename, writer=writer)\n",
    "\n",
    "    plt.close(fig)  # prevent showing static plot\n",
    "    return Video(filename)"
   ]
  },
  {
   "cell_type": "code",
   "execution_count": 8,
   "metadata": {},
   "outputs": [
    {
     "data": {
      "text/html": [
       "<video src=\"rk4_centered.mp4\" controls  >\n",
       "      Your browser does not support the <code>video</code> element.\n",
       "    </video>"
      ],
      "text/plain": [
       "<IPython.core.display.Video object>"
      ]
     },
     "execution_count": 8,
     "metadata": {},
     "output_type": "execute_result"
    }
   ],
   "source": [
    "# Time integration using RK4 centered difference\n",
    "\n",
    "u_c = np.zeros((n_steps, N))\n",
    "u_c[0] = u0\n",
    "sol_centered = RK4(du1dt, 0, u0, tf, n_steps)\n",
    "t_c = sol_centered[:, 0]\n",
    "u_c = sol_centered[:, 1:]\n",
    "\n",
    "save_advection_animation_1D(x, u_c, t_c, filename=\"rk4_centered.mp4\")\n",
    "\n"
   ]
  },
  {
   "cell_type": "code",
   "execution_count": 9,
   "metadata": {},
   "outputs": [
    {
     "name": "stderr",
     "output_type": "stream",
     "text": [
      "/tmp/ipykernel_188516/1255213737.py:4: RuntimeWarning: overflow encountered in divide\n",
      "  return -alpha * (np.roll(u, -1) - u) / dx\n",
      "/tmp/ipykernel_188516/1255213737.py:4: RuntimeWarning: invalid value encountered in subtract\n",
      "  return -alpha * (np.roll(u, -1) - u) / dx\n"
     ]
    },
    {
     "data": {
      "text/html": [
       "<video src=\"rk4_forward.mp4\" controls  >\n",
       "      Your browser does not support the <code>video</code> element.\n",
       "    </video>"
      ],
      "text/plain": [
       "<IPython.core.display.Video object>"
      ]
     },
     "execution_count": 9,
     "metadata": {},
     "output_type": "execute_result"
    }
   ],
   "source": [
    "# Time integration using RK4 Forward difference\n",
    "u_f = np.zeros((n_steps, N))\n",
    "u_f[0] = u0\n",
    "sol_forward  = RK4(du2dt, 0, u0, tf, n_steps)\n",
    "t_f = sol_forward[:, 0]\n",
    "u_f = sol_forward[:, 1:]\n",
    "save_advection_animation_1D(x, u_f, t_f, filename=\"rk4_forward.mp4\")\n",
    "\n"
   ]
  },
  {
   "cell_type": "code",
   "execution_count": 10,
   "metadata": {},
   "outputs": [
    {
     "data": {
      "text/html": [
       "<video src=\"rk4_backward.mp4\" controls  >\n",
       "      Your browser does not support the <code>video</code> element.\n",
       "    </video>"
      ],
      "text/plain": [
       "<IPython.core.display.Video object>"
      ]
     },
     "execution_count": 10,
     "metadata": {},
     "output_type": "execute_result"
    }
   ],
   "source": [
    "# Time integration using RK4 and Backward difference\n",
    "u_b = np.zeros((n_steps, N))\n",
    "u_b[0] = u0\n",
    "sol_backward = RK4(du3dt, 0, u0, tf, n_steps)\n",
    "t_b = sol_backward[:, 0]\n",
    "u_b = sol_backward[:, 1:]\n",
    "save_advection_animation_1D(x, u_b, t_b, filename=\"rk4_backward.mp4\")\n"
   ]
  },
  {
   "cell_type": "code",
   "execution_count": 11,
   "metadata": {},
   "outputs": [
    {
     "data": {
      "image/png": "[encoded data removed]",
      "text/plain": [
       "<Figure size 800x500 with 1 Axes>"
      ]
     },
     "metadata": {},
     "output_type": "display_data"
    }
   ],
   "source": [
    "# --- Final states ---\n",
    "u_c_final = u_c[-1]\n",
    "u_f_final = u_f[-1]\n",
    "u_b_final = u_b[-1]\n",
    "\n",
    "# --- Plot final solutions ---\n",
    "plt.figure(figsize=(8, 5))\n",
    "plt.plot(x, u_c_final, label='Centered', linestyle='--')\n",
    "plt.plot(x, u_f_final, label='Forward', linestyle=':')\n",
    "plt.plot(x, u_b_final, label='Backward', linestyle='-')\n",
    "plt.xlabel('x')\n",
    "plt.ylabel('u(x, t_final)')\n",
    "plt.title('Comparison of Schemes at Final Time')\n",
    "plt.legend()\n",
    "plt.show()"
   ]
  },
  {
   "cell_type": "code",
   "execution_count": 12,
   "metadata": {},
   "outputs": [
    {
     "name": "stdout",
     "output_type": "stream",
     "text": [
      "Peak position (Centered): -0.008000000000000\n",
      "Peak position (Forward) : -1.000000000000000\n",
      "Peak position (Backward): 0.000000000000000\n"
     ]
    }
   ],
   "source": [
    "# --- Peak position (where max occurs) ---\n",
    "def peak_position(u, x):\n",
    "    return x[np.argmax(u)]\n",
    "\n",
    "x_peak_c = peak_position(u_c_final, x)\n",
    "x_peak_f = peak_position(u_f_final, x)\n",
    "x_peak_b = peak_position(u_b_final, x)\n",
    "\n",
    "print(f\"Peak position (Centered): {x_peak_c:.15f}\")\n",
    "print(f\"Peak position (Forward) : {x_peak_f:.15f}\")\n",
    "print(f\"Peak position (Backward): {x_peak_b:.15f}\")\n"
   ]
  },
  {
   "cell_type": "code",
   "execution_count": null,
   "metadata": {},
   "outputs": [],
   "source": []
  }
 ],
 "metadata": {
  "kernelspec": {
   "display_name": "Python 3",
   "language": "python",
   "name": "python3"
  },
  "language_info": {
   "codemirror_mode": {
    "name": "ipython",
    "version": 3
   },
   "file_extension": ".py",
   "mimetype": "text/x-python",
   "name": "python",
   "nbconvert_exporter": "python",
   "pygments_lexer": "ipython3",
   "version": "3.10.12"
  }
 },
 "nbformat": 4,
 "nbformat_minor": 2
}
